{
  "nbformat": 4,
  "nbformat_minor": 0,
  "metadata": {
    "colab": {
      "provenance": [],
      "gpuType": "T4",
      "authorship_tag": "ABX9TyPBn1J25/8PVyL7I9FAZ2WX",
      "include_colab_link": true
    },
    "kernelspec": {
      "name": "python3",
      "display_name": "Python 3"
    },
    "language_info": {
      "name": "python"
    }
  },
  "cells": [
    {
      "cell_type": "markdown",
      "metadata": {
        "id": "view-in-github",
        "colab_type": "text"
      },
      "source": [
        "<a href=\"https://colab.research.google.com/github/roxoho/tennsorflow_learning/blob/main/introduction.ipynb\" target=\"_parent\"><img src=\"https://colab.research.google.com/assets/colab-badge.svg\" alt=\"Open In Colab\"/></a>"
      ]
    },
    {
      "cell_type": "code",
      "execution_count": 1,
      "metadata": {
        "colab": {
          "base_uri": "https://localhost:8080/"
        },
        "id": "CoX0bgIv34VF",
        "outputId": "ea17d9db-bec4-4790-a8dc-03712a1f7beb"
      },
      "outputs": [
        {
          "output_type": "stream",
          "name": "stdout",
          "text": [
            "Colab only includes TensorFlow 2.x; %tensorflow_version has no effect.\n"
          ]
        }
      ],
      "source": [
        "%tensorflow_version 2.x"
      ]
    },
    {
      "cell_type": "code",
      "source": [
        "import numpy\n",
        "import tensorflow as tf"
      ],
      "metadata": {
        "id": "BkFBFiu8-Amf"
      },
      "execution_count": 2,
      "outputs": []
    },
    {
      "cell_type": "code",
      "source": [
        "string = tf.Variable(\"this is a string\", tf.string)\n",
        "number = tf.Variable(321, tf.int16)\n",
        "floating = tf.Variable(3.456, tf.float64)"
      ],
      "metadata": {
        "id": "yA8exabr_du4"
      },
      "execution_count": 5,
      "outputs": []
    },
    {
      "cell_type": "code",
      "source": [
        "rank1 = tf.Variable(['1',\"0\",\"True\"],tf.string)\n",
        "rank2 = tf.Variable([['1',\"0\",\"True\"],['1',\"0\",\"True\"]],tf.string)"
      ],
      "metadata": {
        "id": "ghG1KR-ABCNW"
      },
      "execution_count": 6,
      "outputs": []
    },
    {
      "cell_type": "code",
      "source": [
        "print(tf.rank(string))\n",
        "print(tf.rank(rank1))\n",
        "print(tf.rank(rank2))"
      ],
      "metadata": {
        "colab": {
          "base_uri": "https://localhost:8080/"
        },
        "id": "RMECHO45By9x",
        "outputId": "0b50c71e-9c21-456f-8953-052a4de98860"
      },
      "execution_count": 7,
      "outputs": [
        {
          "output_type": "stream",
          "name": "stdout",
          "text": [
            "tf.Tensor(0, shape=(), dtype=int32)\n",
            "tf.Tensor(1, shape=(), dtype=int32)\n",
            "tf.Tensor(2, shape=(), dtype=int32)\n"
          ]
        }
      ]
    },
    {
      "cell_type": "code",
      "source": [
        "rank3 = tf.Variable([[[\"d\",\"d\"],[\"d\",\"d\"],[\"d\",\"d\"],[\"d\",\"d\"]],[[\"d\",\"d\"],[\"d\",\"d\"],[\"d\",\"d\"],[\"d\",\"d\"]]],tf.string)\n",
        "rank3.shape"
      ],
      "metadata": {
        "colab": {
          "base_uri": "https://localhost:8080/"
        },
        "id": "2S3xJDaHB-as",
        "outputId": "43017747-9a55-47ce-cf63-2c8b865340a4"
      },
      "execution_count": 13,
      "outputs": [
        {
          "output_type": "execute_result",
          "data": {
            "text/plain": [
              "TensorShape([2, 4, 2])"
            ]
          },
          "metadata": {},
          "execution_count": 13
        }
      ]
    },
    {
      "cell_type": "markdown",
      "source": [
        "Changing Shapes"
      ],
      "metadata": {
        "id": "f1zYauGlDJuY"
      }
    },
    {
      "cell_type": "code",
      "source": [
        "tensor1 = tf.ones([1,2,3])\n",
        "print(tensor1)"
      ],
      "metadata": {
        "colab": {
          "base_uri": "https://localhost:8080/"
        },
        "id": "6qm__fCPC0OE",
        "outputId": "302fc2ce-db2c-43ee-ff58-08484aef1515"
      },
      "execution_count": 16,
      "outputs": [
        {
          "output_type": "stream",
          "name": "stdout",
          "text": [
            "tf.Tensor(\n",
            "[[[1. 1. 1.]\n",
            "  [1. 1. 1.]]], shape=(1, 2, 3), dtype=float32)\n"
          ]
        }
      ]
    },
    {
      "cell_type": "code",
      "source": [
        "tensor2 = tf.reshape(tensor1,[2,3,1])\n",
        "tensor3 = tf.reshape(tensor2,[3,-1])\n",
        "print(tensor2)\n",
        "print(tensor3)"
      ],
      "metadata": {
        "colab": {
          "base_uri": "https://localhost:8080/"
        },
        "id": "DsWFZdOMDgnZ",
        "outputId": "7b5a6667-138a-40c7-dd51-65f8b6d504d2"
      },
      "execution_count": 20,
      "outputs": [
        {
          "output_type": "stream",
          "name": "stdout",
          "text": [
            "tf.Tensor(\n",
            "[[[1.]\n",
            "  [1.]\n",
            "  [1.]]\n",
            "\n",
            " [[1.]\n",
            "  [1.]\n",
            "  [1.]]], shape=(2, 3, 1), dtype=float32)\n",
            "tf.Tensor(\n",
            "[[1. 1.]\n",
            " [1. 1.]\n",
            " [1. 1.]], shape=(3, 2), dtype=float32)\n"
          ]
        }
      ]
    },
    {
      "cell_type": "code",
      "source": [
        "tensors1 = tf.constant([1, 2, 3])\n",
        "tensors2 = tf.constant([4, 5, 6])\n",
        "\n",
        "# Perform operations\n",
        "result = tf.add(tensors1, tensors2)\n",
        "\n",
        "# Print or use the result directly\n",
        "print(result.numpy())"
      ],
      "metadata": {
        "colab": {
          "base_uri": "https://localhost:8080/"
        },
        "id": "NHG9f_TJEHUY",
        "outputId": "c1107823-2e1a-4818-b70f-88a1acf08ddb"
      },
      "execution_count": 25,
      "outputs": [
        {
          "output_type": "stream",
          "name": "stdout",
          "text": [
            "[5 7 9]\n"
          ]
        }
      ]
    }
  ]
}