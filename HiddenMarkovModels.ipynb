{
  "nbformat": 4,
  "nbformat_minor": 0,
  "metadata": {
    "colab": {
      "provenance": [],
      "authorship_tag": "ABX9TyNTkxEoHsXYaSoqpmzYzixs",
      "include_colab_link": true
    },
    "kernelspec": {
      "name": "python3",
      "display_name": "Python 3"
    },
    "language_info": {
      "name": "python"
    }
  },
  "cells": [
    {
      "cell_type": "markdown",
      "metadata": {
        "id": "view-in-github",
        "colab_type": "text"
      },
      "source": [
        "<a href=\"https://colab.research.google.com/github/roxoho/tennsorflow_learning/blob/main/HiddenMarkovModels.ipynb\" target=\"_parent\"><img src=\"https://colab.research.google.com/assets/colab-badge.svg\" alt=\"Open In Colab\"/></a>"
      ]
    },
    {
      "cell_type": "code",
      "execution_count": 8,
      "metadata": {
        "id": "Om4V9rYLGYmb"
      },
      "outputs": [],
      "source": [
        "import tensorflow_probability as tfp\n",
        "import tensorflow as tfmb"
      ]
    },
    {
      "cell_type": "code",
      "source": [
        "tfd = tfp.distributions\n",
        "initial_distribution = tfd.Categorical(probs=[0.5,0.5])\n",
        "transition_distribution = tfd.Categorical(probs=[[0.5,0.5],[0.2,0.8]])\n",
        "observation_distribution = tfd.Normal(loc=[0.,15.], scale=[5.,10.])"
      ],
      "metadata": {
        "id": "OMBXJ5z3X3n2"
      },
      "execution_count": 15,
      "outputs": []
    },
    {
      "cell_type": "code",
      "source": [
        "model=tfd.HiddenMarkovModel(initial_distribution=initial_distribution,\n",
        "                            transition_distribution=transition_distribution,\n",
        "                            observation_distribution=observation_distribution,\n",
        "                            num_steps=7)"
      ],
      "metadata": {
        "id": "yy0DNo7XaUgs"
      },
      "execution_count": 16,
      "outputs": []
    },
    {
      "cell_type": "code",
      "source": [
        "mean = model.mean()\n",
        "\n",
        "print(mean.numpy())"
      ],
      "metadata": {
        "colab": {
          "base_uri": "https://localhost:8080/"
        },
        "id": "r9LPdvk9azqM",
        "outputId": "0c8aa8ec-62c3-45f2-d93a-01af43b9aaae"
      },
      "execution_count": 17,
      "outputs": [
        {
          "output_type": "stream",
          "name": "stdout",
          "text": [
            "[ 7.5        9.75      10.425     10.627501  10.6882515 10.706476\n",
            " 10.711944 ]\n"
          ]
        }
      ]
    }
  ]
}